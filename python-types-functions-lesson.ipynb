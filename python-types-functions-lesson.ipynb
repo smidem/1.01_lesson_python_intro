{
 "cells": [
  {
   "cell_type": "markdown",
   "metadata": {},
   "source": [
    "Python\n",
    "* variable assignment (day 1)\n",
    "* data types (day 1)\n",
    "  * typecasting\n",
    "  * indexing, slicing, append lists\n",
    "  * sets\n",
    "  * tuples\n",
    "  * dictionaries\n",
    "    * add to dict\n",
    "    * .items(), .keys(), .values()\n",
    "  * True, False, None, NaN\n",
    "* native functions (day 1 & 2)\n",
    "  * enumerate\n",
    "  * zip\n",
    "  * range\n",
    "  * iterator/generator vs. list\n",
    "\n",
    "Additional stuff:\n",
    "\n",
    "```\n",
    "if/elif/else (day 2)\n",
    "try/except (day 2)\n",
    "for/while loops (day 2)\n",
    "comprehensions (List, dict) (day 2)\n",
    "functions (day 2)\n",
    "\n",
    "```"
   ]
  },
  {
   "cell_type": "markdown",
   "metadata": {},
   "source": [
    "<img src=\"https://ga-dash.s3.amazonaws.com/production/assets/logo-9f88ae6c9c3871690e33280fcf557f33.png\" style=\"float: left; margin: 10px;\"> \n",
    "#  Intro to Python: Datatypes\n",
    "***\n",
    "\n",
    "Week 1 | Lesson 1.1\n",
    "\n",
    "### LEARNING OBJECTIVES\n",
    "*After this lesson, you will be able to:*\n",
    "- Define integers, strings, tuples, lists, and dictionaries\n",
    "- Demonstrate arithmetic operations and string operations\n",
    "- Demonstrate variable assignment\n",
    "\n",
    "### STUDENT PRE-WORK\n",
    "*Before this lesson, you should already be able to:*\n",
    "- Describe/define Python data types\n"
   ]
  },
  {
   "cell_type": "markdown",
   "metadata": {},
   "source": [
    "# (~3 Mins) Can you think of any limitations of data types considering any of these examples:\n",
    "\n",
    "1. Printing a string after an event has occured N number of times\n",
    "1. Printing a string after an event has occured more than %10 relative to the mean of events that occur in a day\n",
    "1. Printing a string after we've seen an event that says \"foo\"\n",
    "\n",
    "_Assume an \"event\" could be a count of times someone visits a website or simply a response to a survey._\n"
   ]
  },
  {
   "cell_type": "code",
   "execution_count": 95,
   "metadata": {},
   "outputs": [
    {
     "data": {
      "text/plain": [
       "list"
      ]
     },
     "execution_count": 95,
     "metadata": {},
     "output_type": "execute_result"
    }
   ],
   "source": [
    "animals = [\"Rat\", \"Cat\", \"Bat\"]\n",
    "type(animals)"
   ]
  },
  {
   "cell_type": "code",
   "execution_count": 96,
   "metadata": {},
   "outputs": [
    {
     "data": {
      "text/plain": [
       "['Bat', 'Cat', 'Rat']"
      ]
     },
     "execution_count": 96,
     "metadata": {},
     "output_type": "execute_result"
    }
   ],
   "source": [
    "animal = \"Bat\"\n",
    "type(animal)\n",
    "animals.reverse()\n",
    "animals"
   ]
  },
  {
   "cell_type": "markdown",
   "metadata": {},
   "source": [
    "# What are types and why do we care?\n",
    "\n",
    "![](https://snag.gy/RkV1Zj.jpg)\n",
    "\n",
    "A great analogy to start with is data, and the **type** as a _kind_ of container for data.  Each _kind_ of continer has different strengths, weakness, and capabilities.  They can work together depending on how you indend to use them and the application.\n",
    "\n",
    "\n",
    "\n",
    "![](https://snag.gy/gNrnJY.jpg) (will be editing a bit of this above figure in next update)\n",
    "\n",
    "The simplest explanation about types is that we're really talking about **data**.  Almost all data exists in some state and some condition.  To describe, communicate, and operate with data, we can count on the characteristics of type to guide our intention with how we use it.  To ask questions and form actions, we need to operate under a set of principles that dictate how data can exist, so we can derive potential actions and modularly building our own applications.\n",
    "\n",
    "The easiest way to start relating to types is how we use types already in natural language we we refer to information.  Natural language is not very precise, but most importantly, doesn't communicate too much about our intent.  In Python, if we have an object that is a list, we know that it is changable, can be iterated on to access each value in sequence, and has a specific number of features that define it's potential application.\n",
    "\n",
    "Just as types define what we _can_ do, they also offer _constraints_ around what we _can't_ do.  Constraints, in a way offer guarantees when enforced by a programming language.  We might be able identify a phone number from a mailing address, because we're flexible humans, but once we ask a computer application to do this task, we have to be much more precise in how we communicate with the computer on how to differentiate these ideas.  In this case, we might be able to look at the length of the sequence of numbers to tell if it's even a phone number or not or even which country it belongs to.  As developers, we need to be very precise about solving these problems, and types are the most fundamental assumption about what we can do with data."
   ]
  },
  {
   "cell_type": "code",
   "execution_count": 97,
   "metadata": {},
   "outputs": [],
   "source": [
    "# Poll: [tbd]"
   ]
  },
  {
   "cell_type": "markdown",
   "metadata": {},
   "source": [
    "### Exercize: Identify Datatypes\n",
    "\n",
    "1. 42\n",
    "1. \"bumble\"\n",
    "1. (134.23, 42, \"forty-one\")\n",
    "1. [1, 0, 1, 0, 1, 1]\n",
    "1. {\"color\": \"green\", \"shape\": \"circle\", \"size\": \"large\"}\n",
    "\n",
    "We will run these polls:\n",
    "```\n",
    "/poll \"What is the type of example #1?\" \"Str\" \"Int\" \"List\" \"Set\" \"Dict\" \"Ponzi\"\n",
    "/poll \"What is the type of example #2?\" \"Str\" \"Int\" \"List\" \"Set\" \"Dict\" \"Ponzi\"\n",
    "/poll \"What is the type of example #3?\" \"Str\" \"Int\" \"List\" \"Set\" \"Dict\" \"Ponzi\"\n",
    "/poll \"What is the type of example #4?\" \"Str\" \"Int\" \"List\" \"Set\" \"Dict\" \"Ponzi\"\n",
    "/poll \"What is the type of example #5?\" \"Str\" \"Int\" \"List\" \"Set\" \"Dict\" \"Ponzi\"\n",
    "```"
   ]
  },
  {
   "cell_type": "markdown",
   "metadata": {},
   "source": [
    "## Demo / Codealong / Guided Practice: Integers\n",
    "\n",
    "#### Integers and Floats\n",
    "Integers are numeric values and can be stored, manipulated, and expressed inside variables without quotes.\n",
    "\n",
    "Here are a few examples!"
   ]
  },
  {
   "cell_type": "markdown",
   "metadata": {},
   "source": [
    "#### Whole numbers"
   ]
  },
  {
   "cell_type": "code",
   "execution_count": 98,
   "metadata": {
    "collapsed": false,
    "slideshow": {
     "slide_type": "subslide"
    }
   },
   "outputs": [
    {
     "data": {
      "text/plain": [
       "23"
      ]
     },
     "execution_count": 98,
     "metadata": {},
     "output_type": "execute_result"
    }
   ],
   "source": [
    "23"
   ]
  },
  {
   "cell_type": "markdown",
   "metadata": {},
   "source": [
    "#### Negative Numbers"
   ]
  },
  {
   "cell_type": "code",
   "execution_count": 99,
   "metadata": {
    "collapsed": false,
    "slideshow": {
     "slide_type": "subslide"
    }
   },
   "outputs": [
    {
     "data": {
      "text/plain": [
       "-44"
      ]
     },
     "execution_count": 99,
     "metadata": {},
     "output_type": "execute_result"
    }
   ],
   "source": [
    "-44"
   ]
  },
  {
   "cell_type": "markdown",
   "metadata": {},
   "source": [
    "#### Common Mathmatical Operations"
   ]
  },
  {
   "cell_type": "markdown",
   "metadata": {
    "slideshow": {
     "slide_type": "subslide"
    }
   },
   "source": [
    "You can also perform basic math using integers as well!"
   ]
  },
  {
   "cell_type": "code",
   "execution_count": 100,
   "metadata": {
    "collapsed": false,
    "slideshow": {
     "slide_type": "subslide"
    }
   },
   "outputs": [
    {
     "data": {
      "text/plain": [
       "26"
      ]
     },
     "execution_count": 100,
     "metadata": {},
     "output_type": "execute_result"
    }
   ],
   "source": [
    "# We should see 26 as the output\n",
    "45-19"
   ]
  },
  {
   "cell_type": "code",
   "execution_count": 101,
   "metadata": {},
   "outputs": [
    {
     "data": {
      "text/plain": [
       "50.0"
      ]
     },
     "execution_count": 101,
     "metadata": {},
     "output_type": "execute_result"
    }
   ],
   "source": [
    "100 * .5"
   ]
  },
  {
   "cell_type": "markdown",
   "metadata": {},
   "source": [
    "#### Math with and without float precision\n",
    "_When expecting floating point precision with integers, your results will be rounded up._"
   ]
  },
  {
   "cell_type": "code",
   "execution_count": 102,
   "metadata": {},
   "outputs": [
    {
     "data": {
      "text/plain": [
       "0"
      ]
     },
     "execution_count": 102,
     "metadata": {},
     "output_type": "execute_result"
    }
   ],
   "source": [
    "3 / 10"
   ]
  },
  {
   "cell_type": "code",
   "execution_count": 103,
   "metadata": {},
   "outputs": [
    {
     "data": {
      "text/plain": [
       "0.3"
      ]
     },
     "execution_count": 103,
     "metadata": {},
     "output_type": "execute_result"
    }
   ],
   "source": [
    "3.0 / 10"
   ]
  },
  {
   "cell_type": "code",
   "execution_count": 104,
   "metadata": {},
   "outputs": [
    {
     "data": {
      "text/plain": [
       "0.3"
      ]
     },
     "execution_count": 104,
     "metadata": {},
     "output_type": "execute_result"
    }
   ],
   "source": [
    "3 * 1.0 / 10"
   ]
  },
  {
   "cell_type": "code",
   "execution_count": 105,
   "metadata": {},
   "outputs": [
    {
     "data": {
      "text/plain": [
       "0.3"
      ]
     },
     "execution_count": 105,
     "metadata": {},
     "output_type": "execute_result"
    }
   ],
   "source": [
    "float(3) / 10"
   ]
  },
  {
   "cell_type": "markdown",
   "metadata": {},
   "source": [
    "_We can always check the type of any Python object using the `type()` function._"
   ]
  },
  {
   "cell_type": "code",
   "execution_count": 106,
   "metadata": {},
   "outputs": [
    {
     "data": {
      "text/plain": [
       "int"
      ]
     },
     "execution_count": 106,
     "metadata": {},
     "output_type": "execute_result"
    }
   ],
   "source": [
    "type(123456789)"
   ]
  },
  {
   "cell_type": "code",
   "execution_count": 107,
   "metadata": {},
   "outputs": [
    {
     "data": {
      "text/plain": [
       "float"
      ]
     },
     "execution_count": 107,
     "metadata": {},
     "output_type": "execute_result"
    }
   ],
   "source": [
    "type(3 * 1.0)"
   ]
  },
  {
   "cell_type": "markdown",
   "metadata": {},
   "source": [
    "#### Can you fix this line of code?\n",
    "_We want a float type, not an int as the result._"
   ]
  },
  {
   "cell_type": "code",
   "execution_count": 108,
   "metadata": {},
   "outputs": [
    {
     "data": {
      "text/plain": [
       "15"
      ]
     },
     "execution_count": 108,
     "metadata": {},
     "output_type": "execute_result"
    }
   ],
   "source": [
    "10 + 11 / 2"
   ]
  },
  {
   "cell_type": "code",
   "execution_count": 109,
   "metadata": {},
   "outputs": [],
   "source": [
    "# Your solution here"
   ]
  },
  {
   "cell_type": "markdown",
   "metadata": {
    "slideshow": {
     "slide_type": "slide"
    }
   },
   "source": [
    "## Demo / Codealong / Guided Practice: Strings and Variables\n",
    "\n",
    "---\n",
    "\n",
    "#### Strings\n",
    "Strings are a basic unit of text in Python but they are are a sequential structure that allows reference of any character within them by numeric offset / index.\n"
   ]
  },
  {
   "cell_type": "markdown",
   "metadata": {
    "slideshow": {
     "slide_type": "-"
    }
   },
   "source": [
    "In a terminal (or a Jupyter Notebook), enter:\n",
    "\n",
    "```\n",
    "\"Words are superior to numbers.\"\n",
    "```"
   ]
  },
  {
   "cell_type": "code",
   "execution_count": 110,
   "metadata": {
    "collapsed": false,
    "slideshow": {
     "slide_type": "fragment"
    }
   },
   "outputs": [
    {
     "data": {
      "text/plain": [
       "'Words are superior to numbers.'"
      ]
     },
     "execution_count": 110,
     "metadata": {},
     "output_type": "execute_result"
    }
   ],
   "source": [
    "\"Words are superior to numbers.\""
   ]
  },
  {
   "cell_type": "markdown",
   "metadata": {
    "slideshow": {
     "slide_type": "slide"
    }
   },
   "source": [
    "You can also make a variable refer to our string example. In iPython notebook or python shell type:\n",
    "```\n",
    "sentence = \"Words are superior to numbers.\"\n",
    "```"
   ]
  },
  {
   "cell_type": "code",
   "execution_count": 111,
   "metadata": {
    "collapsed": false,
    "slideshow": {
     "slide_type": "fragment"
    }
   },
   "outputs": [
    {
     "data": {
      "text/plain": [
       "'Words are superior to numbers.'"
      ]
     },
     "execution_count": 111,
     "metadata": {},
     "output_type": "execute_result"
    }
   ],
   "source": [
    "# Typing the literal variable \"x\" on the last line in a notebook cell prints the value of that variable.\n",
    "\n",
    "sentence = \"Words are superior to numbers.\"\n",
    "sentence "
   ]
  },
  {
   "cell_type": "code",
   "execution_count": 112,
   "metadata": {
    "collapsed": false,
    "slideshow": {
     "slide_type": "slide"
    }
   },
   "outputs": [
    {
     "name": "stdout",
     "output_type": "stream",
     "text": [
      "Words are superior to numbers.\n"
     ]
    }
   ],
   "source": [
    "# iPython Notebook tip\n",
    "# This is the same as typing:\n",
    "print(sentence)"
   ]
  },
  {
   "cell_type": "markdown",
   "metadata": {
    "slideshow": {
     "slide_type": "fragment"
    }
   },
   "source": [
    "The **print** command prints the value assigned to the variable `x` on the screen. \n",
    "\n",
    "The **print** statement removes the quotations, whereas just running they jupyter cell with `x` at the last line leaves the quotations in.\n",
    "\n",
    "You can use 'single' or \"double\" quotations to create a string variable."
   ]
  },
  {
   "cell_type": "markdown",
   "metadata": {
    "slideshow": {
     "slide_type": "notes"
    }
   },
   "source": [
    "_note:  There are times you want to use a double or single quote._"
   ]
  },
  {
   "cell_type": "markdown",
   "metadata": {},
   "source": [
    "#### Object Type Attributes and Functions\n",
    "\n",
    "Everything in Python is an object.  Everything.  Object types each contain their own set of attributes and functions.  In iPython, which is the Python interpreter Jupyter uses, you can enumerate the available attributes and methods available within the object as it exists in memory at the point in time you reference it."
   ]
  },
  {
   "cell_type": "code",
   "execution_count": 113,
   "metadata": {},
   "outputs": [
    {
     "data": {
      "text/plain": [
       "'Words are inferior to numbers.'"
      ]
     },
     "execution_count": 113,
     "metadata": {},
     "output_type": "execute_result"
    }
   ],
   "source": [
    "sentence.replace(\"superior\", \"inferior\")"
   ]
  },
  {
   "cell_type": "code",
   "execution_count": null,
   "metadata": {},
   "outputs": [],
   "source": [
    "sentence.count()"
   ]
  },
  {
   "cell_type": "markdown",
   "metadata": {},
   "source": [
    "_Using the `[tab]` key after a `.` character on a Python object / variable, will display which attributes and functions exist for easy reference within **Jupyter Notebook**._\n",
    "\n",
    "_Also handy is `[shift]-[tab]` within function braces `()` will reference the documentation for that specific function.  This combination hit once will show you brief details.  `[shift]-[tab]` twice in a row, will show more vebose details and 3x will move the documenation into a frame residing on the lower portion of your notebook._"
   ]
  },
  {
   "cell_type": "code",
   "execution_count": null,
   "metadata": {},
   "outputs": [],
   "source": []
  },
  {
   "cell_type": "markdown",
   "metadata": {
    "slideshow": {
     "slide_type": "slide"
    }
   },
   "source": [
    "## Demo / Codealong / Guided Practice: Sequential Types\n",
    "\n",
    "- Strings\n",
    "- Lists\n",
    "- Tuples\n",
    "- Sets\n",
    "- Dictionaries\n",
    "\n",
    "---\n",
    "\n",
    "All of the above types can be accessed using brackets in the following ways:\n",
    "\n",
    "[tbd]\n",
    "- **`x[0]`** References the first elements in a string\n",
    "- **`x[0:3]`** References the first **4** elements of a string from index **`0`**\n"
   ]
  },
  {
   "cell_type": "code",
   "execution_count": 114,
   "metadata": {},
   "outputs": [
    {
     "data": {
      "text/plain": [
       "'Words are superior to numbers.'"
      ]
     },
     "execution_count": 114,
     "metadata": {},
     "output_type": "execute_result"
    }
   ],
   "source": [
    "sentence"
   ]
  },
  {
   "cell_type": "code",
   "execution_count": 115,
   "metadata": {},
   "outputs": [
    {
     "data": {
      "text/plain": [
       "'W'"
      ]
     },
     "execution_count": 115,
     "metadata": {},
     "output_type": "execute_result"
    }
   ],
   "source": [
    "sentence[0]"
   ]
  },
  {
   "cell_type": "code",
   "execution_count": 116,
   "metadata": {},
   "outputs": [
    {
     "data": {
      "text/plain": [
       "'o'"
      ]
     },
     "execution_count": 116,
     "metadata": {},
     "output_type": "execute_result"
    }
   ],
   "source": [
    "sentence[1]"
   ]
  },
  {
   "cell_type": "code",
   "execution_count": 117,
   "metadata": {},
   "outputs": [
    {
     "data": {
      "text/plain": [
       "'r'"
      ]
     },
     "execution_count": 117,
     "metadata": {},
     "output_type": "execute_result"
    }
   ],
   "source": [
    "sentence[2]"
   ]
  },
  {
   "cell_type": "code",
   "execution_count": 118,
   "metadata": {},
   "outputs": [
    {
     "data": {
      "text/plain": [
       "'Wor'"
      ]
     },
     "execution_count": 118,
     "metadata": {},
     "output_type": "execute_result"
    }
   ],
   "source": [
    "sentence[0:3]"
   ]
  },
  {
   "cell_type": "markdown",
   "metadata": {},
   "source": [
    "### What about `list`, `tuple`, `dict`, and `set`?\n",
    "\n",
    "It works the same way for those as well!"
   ]
  },
  {
   "cell_type": "code",
   "execution_count": 119,
   "metadata": {},
   "outputs": [
    {
     "data": {
      "text/plain": [
       "['coefficient', 'residual', 'linear', 'covariance', 'pearson', 'r2']"
      ]
     },
     "execution_count": 119,
     "metadata": {},
     "output_type": "execute_result"
    }
   ],
   "source": [
    "terms = [\"coefficient\", \"residual\", \"linear\", \"covariance\", \"pearson\", \"r2\"]\n",
    "terms"
   ]
  },
  {
   "cell_type": "code",
   "execution_count": 120,
   "metadata": {},
   "outputs": [
    {
     "data": {
      "text/plain": [
       "list"
      ]
     },
     "execution_count": 120,
     "metadata": {},
     "output_type": "execute_result"
    }
   ],
   "source": [
    "type(terms)"
   ]
  },
  {
   "cell_type": "code",
   "execution_count": 121,
   "metadata": {},
   "outputs": [
    {
     "data": {
      "text/plain": [
       "'coefficient'"
      ]
     },
     "execution_count": 121,
     "metadata": {},
     "output_type": "execute_result"
    }
   ],
   "source": [
    "terms[0]"
   ]
  },
  {
   "cell_type": "code",
   "execution_count": 122,
   "metadata": {},
   "outputs": [
    {
     "data": {
      "text/plain": [
       "'residual'"
      ]
     },
     "execution_count": 122,
     "metadata": {},
     "output_type": "execute_result"
    }
   ],
   "source": [
    "terms[1]"
   ]
  },
  {
   "cell_type": "code",
   "execution_count": 123,
   "metadata": {},
   "outputs": [
    {
     "data": {
      "text/plain": [
       "'covariance'"
      ]
     },
     "execution_count": 123,
     "metadata": {},
     "output_type": "execute_result"
    }
   ],
   "source": [
    "terms[3]"
   ]
  },
  {
   "cell_type": "markdown",
   "metadata": {},
   "source": [
    "### Can you think of a way we can reference our `terms` list to only return the items \"residual\" and \"linear\"?\n",
    "We will share some examples on Slack."
   ]
  },
  {
   "cell_type": "code",
   "execution_count": null,
   "metadata": {},
   "outputs": [],
   "source": []
  },
  {
   "cell_type": "markdown",
   "metadata": {},
   "source": [
    "### A few other cool tricks with offset references"
   ]
  },
  {
   "cell_type": "code",
   "execution_count": 151,
   "metadata": {},
   "outputs": [
    {
     "data": {
      "text/plain": [
       "'r2'"
      ]
     },
     "execution_count": 151,
     "metadata": {},
     "output_type": "execute_result"
    }
   ],
   "source": [
    "terms[-1] # To get the last item by back-reference"
   ]
  },
  {
   "cell_type": "code",
   "execution_count": 152,
   "metadata": {},
   "outputs": [
    {
     "data": {
      "text/plain": [
       "['r2', 'pearson', 'covariance', 'linear', 'residual', 'coefficient']"
      ]
     },
     "execution_count": 152,
     "metadata": {},
     "output_type": "execute_result"
    }
   ],
   "source": [
    "terms[::-1] # Reverse a sequence"
   ]
  },
  {
   "cell_type": "code",
   "execution_count": 153,
   "metadata": {},
   "outputs": [
    {
     "data": {
      "text/plain": [
       "['r2', 'linear']"
      ]
     },
     "execution_count": 153,
     "metadata": {},
     "output_type": "execute_result"
    }
   ],
   "source": [
    "terms[::-3] # The last 2 items in reverse order (from offset 0, -1 reverses all, -2 reverses all and give first reversed item, etc)"
   ]
  },
  {
   "cell_type": "code",
   "execution_count": 154,
   "metadata": {},
   "outputs": [
    {
     "data": {
      "text/plain": [
       "'Words are superior'"
      ]
     },
     "execution_count": 154,
     "metadata": {},
     "output_type": "execute_result"
    }
   ],
   "source": [
    "sentence[0:-12] # Only a section of a string, referenced from the end"
   ]
  },
  {
   "cell_type": "code",
   "execution_count": 155,
   "metadata": {},
   "outputs": [
    {
     "data": {
      "text/plain": [
       "'Words are superior'"
      ]
     },
     "execution_count": 155,
     "metadata": {},
     "output_type": "execute_result"
    }
   ],
   "source": [
    "sentence[0:18] # Same result as previous but using forward reference from index 0"
   ]
  },
  {
   "cell_type": "code",
   "execution_count": 150,
   "metadata": {},
   "outputs": [
    {
     "data": {
      "text/plain": [
       "'.srebmun ot roirepus era sdroW'"
      ]
     },
     "execution_count": 150,
     "metadata": {},
     "output_type": "execute_result"
    }
   ],
   "source": [
    "sentence[::-1] # All of this works on strings a well because they are a sequential type!"
   ]
  },
  {
   "cell_type": "markdown",
   "metadata": {},
   "source": [
    "_We sometimes call this *slicing* but the more formal definition of how we reference elements in a sequential type is called **indexing**._"
   ]
  },
  {
   "cell_type": "markdown",
   "metadata": {},
   "source": [
    "### A new sequential type: Tuple"
   ]
  },
  {
   "cell_type": "code",
   "execution_count": 157,
   "metadata": {},
   "outputs": [
    {
     "data": {
      "text/plain": [
       "('Pikachu', 'Electric', 25, 150)"
      ]
     },
     "execution_count": 157,
     "metadata": {},
     "output_type": "execute_result"
    }
   ],
   "source": [
    "pokemon = (\"Pikachu\", \"Electric\", 25, 150)\n",
    "pokemon"
   ]
  },
  {
   "cell_type": "markdown",
   "metadata": {},
   "source": [
    "#### We can reference elements within a `tuple` just like any other sequential type in Python"
   ]
  },
  {
   "cell_type": "code",
   "execution_count": 159,
   "metadata": {},
   "outputs": [
    {
     "data": {
      "text/plain": [
       "'Pikachu'"
      ]
     },
     "execution_count": 159,
     "metadata": {},
     "output_type": "execute_result"
    }
   ],
   "source": [
    "pokemon[0]"
   ]
  },
  {
   "cell_type": "code",
   "execution_count": 161,
   "metadata": {},
   "outputs": [
    {
     "data": {
      "text/plain": [
       "'Electric'"
      ]
     },
     "execution_count": 161,
     "metadata": {},
     "output_type": "execute_result"
    }
   ],
   "source": [
    "pokemon[1]"
   ]
  },
  {
   "cell_type": "code",
   "execution_count": 162,
   "metadata": {},
   "outputs": [
    {
     "data": {
      "text/plain": [
       "150"
      ]
     },
     "execution_count": 162,
     "metadata": {},
     "output_type": "execute_result"
    }
   ],
   "source": [
    "pokemon[-1]"
   ]
  },
  {
   "cell_type": "code",
   "execution_count": 163,
   "metadata": {},
   "outputs": [
    {
     "data": {
      "text/plain": [
       "(150, 25, 'Electric', 'Pikachu')"
      ]
     },
     "execution_count": 163,
     "metadata": {},
     "output_type": "execute_result"
    }
   ],
   "source": [
    "pokemon[::-1]"
   ]
  },
  {
   "cell_type": "markdown",
   "metadata": {},
   "source": [
    "### What's so different about a `list` vs a `tuple`?\n",
    "Look at the next two variables defined in the next cell.  In the cell proceeding the next, inspect each object (animals and minerals), reference the available attributes / methods.\n",
    "\n",
    "_Bonus: Can you explain any interesting functions that you found with their parameters and expected behavior?_\n",
    "\n",
    "Let's field some answers on Slack about this.  Use the \"thread\" feature in Slack."
   ]
  },
  {
   "cell_type": "code",
   "execution_count": 164,
   "metadata": {},
   "outputs": [],
   "source": [
    "# Both Types can hold different types of objects\n",
    "animals = [\"Fish\", \"Goat\", \"Baboon\", 1337, 1337.42]\n",
    "minerals = (\"Gold\", \"Zinc\", \"Copper\", 7331, 7331.24)"
   ]
  },
  {
   "cell_type": "code",
   "execution_count": null,
   "metadata": {},
   "outputs": [],
   "source": [
    "# Check out the above variables here.  Use a . at the end of each variable name, and hit [tab] to inspect.\n",
    "# Select the objects in the popup using your arrow keys and [enter]\n",
    "# After you've selected the object from the list, hit [shift] + [tab] to see the function reference\n",
    "\n"
   ]
  },
  {
   "cell_type": "markdown",
   "metadata": {},
   "source": [
    "### Let's take a closer look\n",
    "The `dis` module disassembles the byte code for a function and is useful to see the difference between tuples and lists.  In order to use it, we have to define our own functions to inspect.  More on functions later.\n",
    "\n",
    "> #### What is bytecode exactly?\n",
    "> **Bytecode** is what our human readable Python code is converted to in order to exectute properly.  These are instructions referenced by numeric codes, constants, and references which are much faster for the CPU to read than reading the source code directly."
   ]
  },
  {
   "cell_type": "code",
   "execution_count": 184,
   "metadata": {},
   "outputs": [],
   "source": [
    "from dis import dis\n",
    "\n",
    "# These functions don't return anything, on purpose\n",
    "def test_list():\n",
    "    animals = [\"Fish\", \"Goat\", \"Baboon\", 1337, 1337.42]\n",
    "\n",
    "def test_tuple():\n",
    "    minerals = (\"Gold\", \"Zinc\", \"Copper\", 7331, 7331.24)\n"
   ]
  },
  {
   "cell_type": "code",
   "execution_count": 185,
   "metadata": {},
   "outputs": [
    {
     "name": "stdout",
     "output_type": "stream",
     "text": [
      "  5           0 LOAD_CONST               1 ('Fish')\n",
      "              3 LOAD_CONST               2 ('Goat')\n",
      "              6 LOAD_CONST               3 ('Baboon')\n",
      "              9 LOAD_CONST               4 (1337)\n",
      "             12 LOAD_CONST               5 (1337.42)\n",
      "             15 BUILD_LIST               5\n",
      "             18 STORE_FAST               0 (animals)\n",
      "             21 LOAD_CONST               0 (None)\n",
      "             24 RETURN_VALUE        \n"
     ]
    }
   ],
   "source": [
    "dis(test_list)"
   ]
  },
  {
   "cell_type": "code",
   "execution_count": 186,
   "metadata": {},
   "outputs": [
    {
     "name": "stdout",
     "output_type": "stream",
     "text": [
      "  8           0 LOAD_CONST               6 (('Gold', 'Zinc', 'Copper', 7331, 7331.24))\n",
      "              3 STORE_FAST               0 (minerals)\n",
      "              6 LOAD_CONST               0 (None)\n",
      "              9 RETURN_VALUE        \n"
     ]
    }
   ],
   "source": [
    "dis(test_tuple)"
   ]
  },
  {
   "cell_type": "markdown",
   "metadata": {},
   "source": [
    "In **bytecode**, a list requires each element be broken into it's own step (`LOAD_CONST`), then assembled (`BUILD_LIST`).  A `tuple` on the other hand, only needs one instruction per level of nesting."
   ]
  },
  {
   "cell_type": "markdown",
   "metadata": {},
   "source": [
    "### Common List Operations"
   ]
  },
  {
   "cell_type": "code",
   "execution_count": 196,
   "metadata": {},
   "outputs": [
    {
     "data": {
      "text/plain": [
       "['Fish', 'Goat', 'Baboon', 1337, 1337.42, 'Bat']"
      ]
     },
     "execution_count": 196,
     "metadata": {},
     "output_type": "execute_result"
    }
   ],
   "source": [
    "# Adds an element to the end of the list\n",
    "animals = [\"Fish\", \"Goat\", \"Baboon\", 1337, 1337.42]\n",
    "animals.append(\"Bat\")\n",
    "animals"
   ]
  },
  {
   "cell_type": "code",
   "execution_count": 192,
   "metadata": {},
   "outputs": [
    {
     "data": {
      "text/plain": [
       "2"
      ]
     },
     "execution_count": 192,
     "metadata": {},
     "output_type": "execute_result"
    }
   ],
   "source": [
    "# Count function counts number of elements matching the input\n",
    "animals.count(\"Bat\")"
   ]
  },
  {
   "cell_type": "markdown",
   "metadata": {},
   "source": [
    "### Appending vs Extending\n",
    "Why don't you try to `.append(new_animals)` to animals.  Then try it with `.extend(new_animals)`.  We'll wait a minute for you to try this."
   ]
  },
  {
   "cell_type": "code",
   "execution_count": 195,
   "metadata": {},
   "outputs": [
    {
     "data": {
      "text/plain": [
       "['Fish', 'Goat', 'Baboon', 1337, 1337.42, ['rat', 'cat']]"
      ]
     },
     "execution_count": 195,
     "metadata": {},
     "output_type": "execute_result"
    }
   ],
   "source": [
    "animals     = [\"Fish\", \"Goat\", \"Baboon\", 1337, 1337.42]\n",
    "new_animals = [\"Rat\", \"Cat\", \"Dog\"]\n",
    "animals"
   ]
  },
  {
   "cell_type": "markdown",
   "metadata": {},
   "source": [
    "### Sorting Lists"
   ]
  },
  {
   "cell_type": "code",
   "execution_count": 199,
   "metadata": {},
   "outputs": [
    {
     "data": {
      "text/plain": [
       "['Goat', 'Fish', 'Bat', 'Baboon', 1337.42, 1337]"
      ]
     },
     "execution_count": 199,
     "metadata": {},
     "output_type": "execute_result"
    }
   ],
   "source": [
    "animals.sort(reverse=True) # Default is reverse=False\n",
    "animals"
   ]
  },
  {
   "cell_type": "markdown",
   "metadata": {},
   "source": [
    "# Sets and Set operations\n",
    "A `set` is like a list and like a tuple that it is a sequential type.  It is one of two common Python datatypes that don't guarantee order.  The means that sequential order of anything defined in a `set` could in fact be different than how it was defined."
   ]
  },
  {
   "cell_type": "code",
   "execution_count": 203,
   "metadata": {},
   "outputs": [
    {
     "data": {
      "text/plain": [
       "{'Excellent', 'Great', 'Medium', 'Normal', 'Poor'}"
      ]
     },
     "execution_count": 203,
     "metadata": {},
     "output_type": "execute_result"
    }
   ],
   "source": [
    "grades = set([\"Poor\", \"Medium\", \"Normal\", \"Great\", \"Excellent\"])\n",
    "grades"
   ]
  },
  {
   "cell_type": "markdown",
   "metadata": {},
   "source": [
    "A `set` is much like a primary key in a database but if you're unfamilliar with that concept so far, a `set` can only contain unique elements."
   ]
  },
  {
   "cell_type": "code",
   "execution_count": 206,
   "metadata": {},
   "outputs": [
    {
     "data": {
      "text/plain": [
       "{'Bulbasaur', 'Charizard', 'Mike', 'Pikachu'}"
      ]
     },
     "execution_count": 206,
     "metadata": {},
     "output_type": "execute_result"
    }
   ],
   "source": [
    "pokemon = set([\"Pikachu\", \"Charizard\", \"Bulbasaur\", \"Pikachu\", \"Mike\", \"Mike\", \"Charizard\"]) # Notice the input of 7 elements into our `set()`\n",
    "pokemon"
   ]
  },
  {
   "cell_type": "markdown",
   "metadata": {},
   "source": [
    "## What can a `set` do that other sequential types can't?\n",
    "Set opertations are powerful tools that enable us to select and exclude data through dissimilarity and commonality."
   ]
  },
  {
   "cell_type": "code",
   "execution_count": 207,
   "metadata": {},
   "outputs": [],
   "source": [
    "animals = set([\"Bat\", \"Cat\", \"Rat\"])\n",
    "flying = set([\"Bat\", \"Seagull\", \"Eagle\"])\n",
    "running = set([\"Cat\", \"Rat\", \"Dog\"])"
   ]
  },
  {
   "cell_type": "markdown",
   "metadata": {},
   "source": [
    "### Animals that fly: $animals \\cap flying$\n",
    "Intersection only returns what's common between each set."
   ]
  },
  {
   "cell_type": "code",
   "execution_count": 208,
   "metadata": {},
   "outputs": [
    {
     "data": {
      "text/plain": [
       "{'Bat'}"
      ]
     },
     "execution_count": 208,
     "metadata": {},
     "output_type": "execute_result"
    }
   ],
   "source": [
    "animals.intersection(flying)"
   ]
  },
  {
   "cell_type": "markdown",
   "metadata": {},
   "source": [
    "### Flying and Animals: $animals\\cup flying$\n",
    "Union returns all unique items between sets."
   ]
  },
  {
   "cell_type": "code",
   "execution_count": 209,
   "metadata": {},
   "outputs": [
    {
     "data": {
      "text/plain": [
       "{'Bat', 'Cat', 'Eagle', 'Rat', 'Seagull'}"
      ]
     },
     "execution_count": 209,
     "metadata": {},
     "output_type": "execute_result"
    }
   ],
   "source": [
    "flying.union(animals)"
   ]
  },
  {
   "cell_type": "markdown",
   "metadata": {},
   "source": [
    "### Difference of Animals and Flying: $animals\\setminus Flying$\n",
    "Show only non-matching items (the opposite of intersection)."
   ]
  },
  {
   "cell_type": "code",
   "execution_count": 210,
   "metadata": {},
   "outputs": [
    {
     "data": {
      "text/plain": [
       "{'Cat', 'Rat'}"
      ]
     },
     "execution_count": 210,
     "metadata": {},
     "output_type": "execute_result"
    }
   ],
   "source": [
    "animals.difference(flying)"
   ]
  },
  {
   "cell_type": "markdown",
   "metadata": {},
   "source": [
    "### All Animals: $all = animals\\cup flying\\cup running$"
   ]
  },
  {
   "cell_type": "code",
   "execution_count": 213,
   "metadata": {},
   "outputs": [
    {
     "data": {
      "text/plain": [
       "{'Bat', 'Cat', 'Dog', 'Eagle', 'Rat', 'Seagull'}"
      ]
     },
     "execution_count": 213,
     "metadata": {},
     "output_type": "execute_result"
    }
   ],
   "source": [
    "all_animals = animals.union(\n",
    "    flying.union(running)\n",
    ")\n",
    "all_animals"
   ]
  },
  {
   "cell_type": "markdown",
   "metadata": {},
   "source": [
    "# Dictionaries are powerful objects\n",
    "\n",
    "One of the most common types, and sometimes most misunderstood is the Python dictionary.\n",
    "\n",
    "- Referenced by key\n",
    "- Unique key space (like a set)\n",
    "- Order isn't guaranteed (like a set)\n",
    "- Keys can be any type\n",
    "- Values can be any type\n",
    "- Can be nested (dictionary of dictionaries)"
   ]
  },
  {
   "cell_type": "code",
   "execution_count": 214,
   "metadata": {},
   "outputs": [
    {
     "data": {
      "text/plain": [
       "{'bulbasaur': {'power': 150, 'speed': 15},\n",
       " 'charizard': {'power': 150, 'speed': 15},\n",
       " 'pikachu': {'power': 150, 'speed': 15}}"
      ]
     },
     "execution_count": 214,
     "metadata": {},
     "output_type": "execute_result"
    }
   ],
   "source": [
    "pokedex = {\n",
    "    \"pikachu\": {\n",
    "        \"speed\": 15,\n",
    "        \"power\": 150\n",
    "    },\n",
    "    \"charizard\": {\n",
    "        \"speed\": 15,\n",
    "        \"power\": 150\n",
    "    },\n",
    "    \"bulbasaur\": {\n",
    "        \"speed\": 15,\n",
    "        \"power\": 150\n",
    "    },\n",
    "}\n",
    "\n",
    "pokedex"
   ]
  },
  {
   "cell_type": "code",
   "execution_count": 215,
   "metadata": {},
   "outputs": [
    {
     "data": {
      "text/plain": [
       "{'power': 150, 'speed': 15}"
      ]
     },
     "execution_count": 215,
     "metadata": {},
     "output_type": "execute_result"
    }
   ],
   "source": [
    "pokedex['pikachu']"
   ]
  },
  {
   "cell_type": "markdown",
   "metadata": {},
   "source": [
    "### Selecting items that are not available\n",
    "One problem that we run into with dictionaries is selecting items that don't exist.  There are a lot of ways to handle this problem, but the most straight forward way is to check to make sure the key exists before selecting the element, or just use the `.get()` method that is available to every dictionary object, allowing you to select an item but return a default value if the key doesn't exist.\n",
    "\n",
    "> You can use what's called a \"DefaultDict\" to handle this problem as well but it must be imported from `collections`."
   ]
  },
  {
   "cell_type": "code",
   "execution_count": 223,
   "metadata": {},
   "outputs": [
    {
     "ename": "KeyError",
     "evalue": "'geodude'",
     "output_type": "error",
     "traceback": [
      "\u001b[0;31m---------------------------------------------------------------------------\u001b[0m",
      "\u001b[0;31mKeyError\u001b[0m                                  Traceback (most recent call last)",
      "\u001b[0;32m<ipython-input-223-0fd40997866b>\u001b[0m in \u001b[0;36m<module>\u001b[0;34m()\u001b[0m\n\u001b[1;32m      1\u001b[0m \u001b[0;31m# There is no \"geodude\" in our dictionary.\u001b[0m\u001b[0;34m\u001b[0m\u001b[0;34m\u001b[0m\u001b[0m\n\u001b[0;32m----> 2\u001b[0;31m \u001b[0mpokedex\u001b[0m\u001b[0;34m[\u001b[0m\u001b[0;34m\"geodude\"\u001b[0m\u001b[0;34m]\u001b[0m\u001b[0;34m\u001b[0m\u001b[0m\n\u001b[0m",
      "\u001b[0;31mKeyError\u001b[0m: 'geodude'"
     ]
    }
   ],
   "source": [
    "# There is no \"geodude\" in our dictionary.\n",
    "pokedex[\"geodude\"]"
   ]
  },
  {
   "cell_type": "code",
   "execution_count": 222,
   "metadata": {},
   "outputs": [
    {
     "data": {
      "text/plain": [
       "'Not Available'"
      ]
     },
     "execution_count": 222,
     "metadata": {},
     "output_type": "execute_result"
    }
   ],
   "source": [
    "pokedex.get(\"geodude\", \"Not Available\")"
   ]
  },
  {
   "cell_type": "markdown",
   "metadata": {},
   "source": [
    "### We can add or update an element to a dictionary by referencing the key within brackets `[key name]`"
   ]
  },
  {
   "cell_type": "code",
   "execution_count": 224,
   "metadata": {},
   "outputs": [],
   "source": [
    "pokedex[\"geodude\"] = {\"speed\": 10, \"power\": 200}\n",
    "pokedex"
   ]
  },
  {
   "cell_type": "markdown",
   "metadata": {},
   "source": [
    "### We can update multiple elements in a dictionary with an `.update()`\n",
    "Notice \"geodude\" is updated, but we've also added an element by key that didn't exist yet.  `update()` will update elements with matching keys, but add new elements by key when input don't match existing keys."
   ]
  },
  {
   "cell_type": "code",
   "execution_count": 227,
   "metadata": {},
   "outputs": [
    {
     "data": {
      "text/plain": [
       "{'bulbasaur': {'power': 150, 'speed': 15},\n",
       " 'charizard': {'power': 150, 'speed': 15},\n",
       " 'geodude': {'power': 205, 'speed': 15},\n",
       " 'jiggly puff': {'power': 100, 'speed': 25},\n",
       " 'pikachu': {'power': 150, 'speed': 15}}"
      ]
     },
     "execution_count": 227,
     "metadata": {},
     "output_type": "execute_result"
    }
   ],
   "source": [
    "pokedex.update({\n",
    "    \"geodude\": {\n",
    "        \"speed\": 15,\n",
    "        \"power\": 205,\n",
    "    },\n",
    "    \"jiggly puff\": {\n",
    "        \"speed\": 25,\n",
    "        \"power\": 100\n",
    "    }\n",
    "})\n",
    "pokedex"
   ]
  },
  {
   "cell_type": "code",
   "execution_count": 228,
   "metadata": {},
   "outputs": [
    {
     "data": {
      "text/plain": [
       "['bulbasaur', 'charizard', 'geodude', 'pikachu', 'jiggly puff']"
      ]
     },
     "execution_count": 228,
     "metadata": {},
     "output_type": "execute_result"
    }
   ],
   "source": [
    "pokedex.keys()"
   ]
  },
  {
   "cell_type": "code",
   "execution_count": 229,
   "metadata": {},
   "outputs": [
    {
     "data": {
      "text/plain": [
       "[{'power': 150, 'speed': 15},\n",
       " {'power': 150, 'speed': 15},\n",
       " {'power': 205, 'speed': 15},\n",
       " {'power': 150, 'speed': 15},\n",
       " {'power': 100, 'speed': 25}]"
      ]
     },
     "execution_count": 229,
     "metadata": {},
     "output_type": "execute_result"
    }
   ],
   "source": [
    "pokedex.values()"
   ]
  },
  {
   "cell_type": "markdown",
   "metadata": {},
   "source": [
    "## Slight tangent about multiple variable assignment\n",
    "Believe it or not, this will be relevent in just a moment.  To make sense of how enumerate() and how iteration can work with dictionaries, it's helpful to understand how Python can assign multiple variables from sequential objects.\n",
    "\n",
    "Lets start with this `tuple`."
   ]
  },
  {
   "cell_type": "code",
   "execution_count": 231,
   "metadata": {},
   "outputs": [
    {
     "name": "stdout",
     "output_type": "stream",
     "text": [
      "('Person: ', 'Gus')\n",
      "('Animal: ', 'Baboon')\n"
     ]
    }
   ],
   "source": [
    "person, animal = (\"Gus\", \"Baboon\")\n",
    "print(\"Person: \", person)\n",
    "print(\"Animal: \", animal)"
   ]
  },
  {
   "cell_type": "markdown",
   "metadata": {},
   "source": [
    "This works with `list` objects too."
   ]
  },
  {
   "cell_type": "code",
   "execution_count": 232,
   "metadata": {},
   "outputs": [
    {
     "name": "stdout",
     "output_type": "stream",
     "text": [
      "('Person: ', 'Gus')\n",
      "('Animal: ', 'Baboon')\n"
     ]
    }
   ],
   "source": [
    "person, animal = [\"Gus\", \"Baboon\"]\n",
    "print(\"Person: \", person)\n",
    "print(\"Animal: \", animal)"
   ]
  },
  {
   "cell_type": "markdown",
   "metadata": {},
   "source": [
    "We can \"unpack\" as many objects from a sequential object as long as we have an equal number of variables to place them in.  Not just 2!"
   ]
  },
  {
   "cell_type": "code",
   "execution_count": 239,
   "metadata": {},
   "outputs": [
    {
     "name": "stdout",
     "output_type": "stream",
     "text": [
      "('Animal:', 'Dog')\n",
      "('Mineral: ', 'Zinc')\n",
      "('Person: ', 'Gus')\n",
      "('Movie: ', 'Rocky 3')\n"
     ]
    }
   ],
   "source": [
    "animal, mineral, person, movie = (\"Dog\", \"Zinc\", \"Gus\", \"Rocky 3\")\n",
    "\n",
    "print(\"Animal:\", animal)\n",
    "print(\"Mineral: \", mineral)\n",
    "print(\"Person: \", person)\n",
    "print(\"Movie: \", movie)"
   ]
  },
  {
   "cell_type": "code",
   "execution_count": null,
   "metadata": {},
   "outputs": [],
   "source": []
  }
 ],
 "metadata": {
  "kernelspec": {
   "display_name": "Python [conda env:dsi]",
   "language": "python",
   "name": "conda-env-dsi-py"
  },
  "language_info": {
   "codemirror_mode": {
    "name": "ipython",
    "version": 2
   },
   "file_extension": ".py",
   "mimetype": "text/x-python",
   "name": "python",
   "nbconvert_exporter": "python",
   "pygments_lexer": "ipython2",
   "version": "2.7.12"
  }
 },
 "nbformat": 4,
 "nbformat_minor": 2
}
